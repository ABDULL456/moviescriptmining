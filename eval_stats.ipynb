{
 "cells": [
  {
   "cell_type": "code",
   "execution_count": 1,
   "metadata": {},
   "outputs": [],
   "source": [
    "import pandas as pd\n",
    "import numpy as np\n",
    "import scipy.stats as st"
   ]
  },
  {
   "cell_type": "code",
   "execution_count": 5,
   "metadata": {},
   "outputs": [
    {
     "data": {
      "text/html": [
       "<div>\n",
       "<style scoped>\n",
       "    .dataframe tbody tr th:only-of-type {\n",
       "        vertical-align: middle;\n",
       "    }\n",
       "\n",
       "    .dataframe tbody tr th {\n",
       "        vertical-align: top;\n",
       "    }\n",
       "\n",
       "    .dataframe thead th {\n",
       "        text-align: right;\n",
       "    }\n",
       "</style>\n",
       "<table border=\"1\" class=\"dataframe\">\n",
       "  <thead>\n",
       "    <tr style=\"text-align: right;\">\n",
       "      <th></th>\n",
       "      <th>ID</th>\n",
       "      <th>random</th>\n",
       "      <th>sentiment</th>\n",
       "    </tr>\n",
       "  </thead>\n",
       "  <tbody>\n",
       "    <tr>\n",
       "      <th>0</th>\n",
       "      <td>1413</td>\n",
       "      <td>1</td>\n",
       "      <td>4</td>\n",
       "    </tr>\n",
       "    <tr>\n",
       "      <th>1</th>\n",
       "      <td>1414</td>\n",
       "      <td>1</td>\n",
       "      <td>4</td>\n",
       "    </tr>\n",
       "    <tr>\n",
       "      <th>2</th>\n",
       "      <td>1415</td>\n",
       "      <td>4</td>\n",
       "      <td>3</td>\n",
       "    </tr>\n",
       "    <tr>\n",
       "      <th>3</th>\n",
       "      <td>93</td>\n",
       "      <td>4</td>\n",
       "      <td>3</td>\n",
       "    </tr>\n",
       "    <tr>\n",
       "      <th>4</th>\n",
       "      <td>94</td>\n",
       "      <td>3</td>\n",
       "      <td>3</td>\n",
       "    </tr>\n",
       "  </tbody>\n",
       "</table>\n",
       "</div>"
      ],
      "text/plain": [
       "     ID  random  sentiment\n",
       "0  1413       1          4\n",
       "1  1414       1          4\n",
       "2  1415       4          3\n",
       "3    93       4          3\n",
       "4    94       3          3"
      ]
     },
     "execution_count": 5,
     "metadata": {},
     "output_type": "execute_result"
    }
   ],
   "source": [
    "frames = [pd.read_csv(\"evaluations/evals_austin.txt\", names=[\"ID\", \"random\", \"sentiment\"]),\n",
    "          pd.read_csv(\"evaluations/evals_danial.txt\", names=[\"ID\", \"random\", \"sentiment\"]),\n",
    "          pd.read_csv(\"evaluations/evals_matt.txt\",   names=[\"ID\", \"random\", \"sentiment\"]),\n",
    "          pd.read_csv(\"evaluations/evals_quinn.txt\",  names=[\"ID\", \"random\", \"sentiment\"])\n",
    "         ]\n",
    "df = pd.concat(frames)\n",
    "df.head()"
   ]
  },
  {
   "cell_type": "code",
   "execution_count": 17,
   "metadata": {},
   "outputs": [
    {
     "name": "stdout",
     "output_type": "stream",
     "text": [
      "Random mean, stddev: 2.21, 1.08\n",
      "Sentiment mean, stddev: 2.39, 0.955\n",
      "Statistic: -2.3 \n",
      "p value: 0.0215\n"
     ]
    }
   ],
   "source": [
    "r_mean = df[\"random\"].mean()\n",
    "r_std = df[\"random\"].std()\n",
    "s_mean = df[\"sentiment\"].mean()\n",
    "s_std = df[\"sentiment\"].std()\n",
    "stats, p_val = st.ttest_ind(df[\"random\"], df[\"sentiment\"])\n",
    "print(\"Random mean, stddev: {:.3}, {:.3}\".format(r_mean, r_std))\n",
    "print(\"Sentiment mean, stddev: {:.3}, {:.3}\".format(s_mean, s_std))\n",
    "print(\"Statistic: {:.3} \\np value: {:.3}\".format(stats, p_val))"
   ]
  },
  {
   "cell_type": "code",
   "execution_count": null,
   "metadata": {},
   "outputs": [],
   "source": []
  }
 ],
 "metadata": {
  "kernelspec": {
   "display_name": "Python 3",
   "language": "python",
   "name": "python3"
  },
  "language_info": {
   "codemirror_mode": {
    "name": "ipython",
    "version": 3
   },
   "file_extension": ".py",
   "mimetype": "text/x-python",
   "name": "python",
   "nbconvert_exporter": "python",
   "pygments_lexer": "ipython3",
   "version": "3.7.2"
  }
 },
 "nbformat": 4,
 "nbformat_minor": 2
}
