{
 "cells": [
  {
   "cell_type": "code",
   "execution_count": 44,
   "metadata": {},
   "outputs": [],
   "source": [
    "import re\n",
    "from os import listdir\n",
    "from os.path import isfile, join\n",
    "import random\n",
    "import json"
   ]
  },
  {
   "cell_type": "code",
   "execution_count": 49,
   "metadata": {},
   "outputs": [],
   "source": [
    "def split_script(src, dest, block_count, test_count):\n",
    "    with open(src, \"r\") as f:\n",
    "        lines = f.readlines()\n",
    "        line_count = len(lines)\n",
    "        lines_per_block = line_count // block_count\n",
    "        blocks = random.sample(range(0, block_count), test_count)\n",
    "        data = {\"train\":\"\"}\n",
    "        test_itr = 1\n",
    "        for i in range(block_count):\n",
    "            start_index = i*lines_per_block\n",
    "            end_index = start_index + lines_per_block\n",
    "            split_index = (start_index + end_index) // 2\n",
    "            \n",
    "            if i in blocks:\n",
    "                data[\"test\"+str(test_itr)+\"_input\"] = ''.join(lines[start_index:split_index])\n",
    "                data[\"test\"+str(test_itr)+\"_true\"]  = ''.join(lines[split_index+1:end_index])\n",
    "                test_itr += 1\n",
    "            else:\n",
    "                data[\"train\"] += ''.join(lines[start_index:split_index])\n",
    "        print(data.keys())\n",
    "        dest = dest[:-4] + \".json\"\n",
    "        with open(dest, 'w+') as outfile:\n",
    "            json.dump(data, outfile)\n",
    "            \n",
    "\n",
    "def generate_tests_entire_dir(srcpath, destpath):\n",
    "    for f in listdir(srcpath):\n",
    "        src = join(srcpath, f)\n",
    "        dest = join(destpath, f)\n",
    "        if isfile(src):\n",
    "            split_script(src, dest, 20, 3)\n",
    "            break\n",
    "    \n",
    "def parse_script(src, dest):\n",
    "    with open(src, \"r\") as f:\n",
    "        parsed = \"\"\n",
    "        added_new = True # Used for ignoring consequtive empty lines\n",
    "        for line in f:\n",
    "            temp = line.strip(\" \")\n",
    "            if temp != \"\\n\":\n",
    "                temp = temp.strip(\"\\n\")\n",
    "                if (re.search('[a-zA-Z]', temp)): # Ignore page number lines\n",
    "                    parsed += line.strip() + \" \"\n",
    "                    added_new = False\n",
    "            else:\n",
    "                if not added_new:\n",
    "                    parsed += \"\\n\"\n",
    "                    added_new = True\n",
    "                continue\n",
    "    with open(dest, \"w\") as f:\n",
    "        f.write(parsed)\n",
    "\n",
    "def process_entire_dir(srcpath, destpath):\n",
    "    for f in listdir(srcpath):\n",
    "        src = join(srcpath, f)\n",
    "        dest = join(destpath, f)\n",
    "        if isfile(src):\n",
    "            parse_script(src, dest)\n",
    "    print(\"Processed: {} scripts\".format(len(listdir(srcpath))))"
   ]
  },
  {
   "cell_type": "code",
   "execution_count": null,
   "metadata": {},
   "outputs": [],
   "source": [
    "process_entire_dir(\"./raw_data/\", \"./parsed_data/\")"
   ]
  },
  {
   "cell_type": "code",
   "execution_count": 50,
   "metadata": {},
   "outputs": [
    {
     "name": "stdout",
     "output_type": "stream",
     "text": [
      "dict_keys(['train', 'test1_input', 'test1_true', 'test2_input', 'test2_true', 'test3_input', 'test3_true'])\n"
     ]
    }
   ],
   "source": [
    "generate_tests_entire_dir(\"./parsed_data/\", \"./test_cases2/\")"
   ]
  },
  {
   "cell_type": "code",
   "execution_count": null,
   "metadata": {},
   "outputs": [],
   "source": []
  }
 ],
 "metadata": {
  "kernelspec": {
   "display_name": "Python 3",
   "language": "python",
   "name": "python3"
  },
  "language_info": {
   "codemirror_mode": {
    "name": "ipython",
    "version": 3
   },
   "file_extension": ".py",
   "mimetype": "text/x-python",
   "name": "python",
   "nbconvert_exporter": "python",
   "pygments_lexer": "ipython3",
   "version": "3.7.1"
  }
 },
 "nbformat": 4,
 "nbformat_minor": 2
}
