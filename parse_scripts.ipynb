{
 "cells": [
  {
   "cell_type": "code",
   "execution_count": 1,
   "metadata": {},
   "outputs": [],
   "source": [
    "import re\n",
    "from os import listdir\n",
    "from os.path import isfile, join"
   ]
  },
  {
   "cell_type": "code",
   "execution_count": 4,
   "metadata": {},
   "outputs": [],
   "source": [
    "def parse_script(src, dest):\n",
    "    with open(src, \"r\") as f:\n",
    "        parsed = \"\"\n",
    "        added_new = True # Used for ignoring consequtive empty lines\n",
    "        for line in f:\n",
    "            temp = line.strip(\" \")\n",
    "            if temp != \"\\n\":\n",
    "                temp = temp.strip(\"\\n\")\n",
    "                if (re.search('[a-zA-Z]', temp)): # Ignore page number lines\n",
    "                    parsed += line.strip() + \" \"\n",
    "                    added_new = False\n",
    "            else:\n",
    "                if not added_new:\n",
    "                    parsed += \"\\n\"\n",
    "                    added_new = True\n",
    "                continue\n",
    "    with open(dest, \"w\") as f:\n",
    "        f.write(parsed)\n",
    "def process_entire_dir(srcpath, destpath):\n",
    "    for f in listdir(srcpath):\n",
    "        src = join(srcpath, f)\n",
    "        dest = join(destpath, f)\n",
    "        if isfile(src):\n",
    "            parse_script(src, dest)\n",
    "    print(\"Processed: {} scripts\".format(len(listdir(srcpath))))"
   ]
  },
  {
   "cell_type": "code",
   "execution_count": null,
   "metadata": {},
   "outputs": [],
   "source": [
    "process_entire_dir(\"./raw_data/\", \"./parsed_data/\")"
   ]
  },
  {
   "cell_type": "code",
   "execution_count": null,
   "metadata": {},
   "outputs": [],
   "source": []
  }
 ],
 "metadata": {
  "kernelspec": {
   "display_name": "Python 3",
   "language": "python",
   "name": "python3"
  },
  "language_info": {
   "codemirror_mode": {
    "name": "ipython",
    "version": 3
   },
   "file_extension": ".py",
   "mimetype": "text/x-python",
   "name": "python",
   "nbconvert_exporter": "python",
   "pygments_lexer": "ipython3",
   "version": "3.7.2"
  }
 },
 "nbformat": 4,
 "nbformat_minor": 2
}
