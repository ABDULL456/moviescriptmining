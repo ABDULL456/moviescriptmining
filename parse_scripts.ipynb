{
 "cells": [
  {
   "cell_type": "code",
   "execution_count": 44,
   "metadata": {},
   "outputs": [],
   "source": [
    "import re\n",
    "from os import listdir\n",
    "from os.path import isfile, join\n",
    "import random\n",
    "import json"
   ]
  },
  {
   "cell_type": "code",
   "execution_count": 67,
   "metadata": {},
   "outputs": [],
   "source": [
    "def split_script_into_json(src, train_dest, test_dest, unique_id, block_count, test_count):\n",
    "    with open(src, \"r\") as f:\n",
    "        lines = f.readlines()\n",
    "        line_count = len(lines)\n",
    "        lines_per_block = line_count // block_count\n",
    "        blocks = random.sample(range(0, block_count), test_count)\n",
    "        train_data = \"\"\n",
    "        test_data = {}\n",
    "        test_itr = 1\n",
    "        for i in range(block_count):\n",
    "            start_index = i*lines_per_block\n",
    "            end_index = start_index + lines_per_block\n",
    "            split_index = (start_index + end_index) // 2\n",
    "            \n",
    "            if i in blocks:\n",
    "                test_data[\"test\"+str(test_itr)+\"_input\"] = ''.join(lines[start_index:split_index])\n",
    "                test_data[\"test\"+str(test_itr)+\"_true\"]  = ''.join(lines[split_index+1:end_index])\n",
    "                test_data[\"test\"+str(test_itr)+\"_id\"]    = unique_id + test_itr - 1\n",
    "                test_itr += 1\n",
    "            else:\n",
    "                train_data += ''.join(lines[start_index:split_index])\n",
    "        \n",
    "        test_dest = test_dest[:-4] + \".json\"\n",
    "        with open(test_dest, 'w+') as outfile:\n",
    "            json.dump(test_data, outfile)\n",
    "            \n",
    "        with open(train_dest, \"w+\") as f:\n",
    "            f.write(train_data)\n",
    "            \n",
    "\n",
    "def generate_test_jsons_entire_dir(srcpath, train_destpath, test_destpath):\n",
    "    unique_id = 0\n",
    "    blocks_per_file = 20\n",
    "    tests_per_file = 3\n",
    "    for f in listdir(srcpath):\n",
    "        src = join(srcpath, f)\n",
    "        dest = join(destpath, f)\n",
    "        if isfile(src):\n",
    "            split_script_into_json(src, train_dest, test_dest, unique_id, blocks_per_file, tests_per_file)\n",
    "        unique_id += tests_per_file\n",
    "    \n",
    "def parse_script(src, dest):\n",
    "    with open(src, \"r\") as f:\n",
    "        parsed = \"\"\n",
    "        added_new = True # Used for ignoring consequtive empty lines\n",
    "        for line in f:\n",
    "            temp = line.strip(\" \")\n",
    "            if temp != \"\\n\":\n",
    "                temp = temp.strip(\"\\n\")\n",
    "                if (re.search('[a-zA-Z]', temp)): # Ignore page number lines\n",
    "                    parsed += line.strip() + \" \"\n",
    "                    added_new = False\n",
    "            else:\n",
    "                if not added_new:\n",
    "                    parsed += \"\\n\"\n",
    "                    added_new = True\n",
    "                continue\n",
    "    with open(dest, \"w\") as f:\n",
    "        f.write(parsed)\n",
    "\n",
    "def process_entire_dir(srcpath, destpath):\n",
    "    for f in listdir(srcpath):\n",
    "        src = join(srcpath, f)\n",
    "        dest = join(destpath, f)\n",
    "        if isfile(src):\n",
    "            parse_script(src, dest)\n",
    "    print(\"Processed: {} scripts\".format(len(listdir(srcpath))))"
   ]
  },
  {
   "cell_type": "code",
   "execution_count": null,
   "metadata": {},
   "outputs": [],
   "source": [
    "process_entire_dir(\"./raw_data/\", \"./parsed_data/\")"
   ]
  },
  {
   "cell_type": "code",
   "execution_count": 68,
   "metadata": {},
   "outputs": [
    {
     "ename": "NameError",
     "evalue": "name 'destpath' is not defined",
     "output_type": "error",
     "traceback": [
      "\u001b[0;31m---------------------------------------------------------------------------\u001b[0m",
      "\u001b[0;31mNameError\u001b[0m                                 Traceback (most recent call last)",
      "\u001b[0;32m<ipython-input-68-046a52d7a3ce>\u001b[0m in \u001b[0;36m<module>\u001b[0;34m\u001b[0m\n\u001b[0;32m----> 1\u001b[0;31m \u001b[0mgenerate_test_jsons_entire_dir\u001b[0m\u001b[0;34m(\u001b[0m\u001b[0;34m\"./parsed_data/\"\u001b[0m\u001b[0;34m,\u001b[0m \u001b[0;34m\"./training_cases/\"\u001b[0m\u001b[0;34m,\u001b[0m \u001b[0;34m\"./test_cases/\"\u001b[0m\u001b[0;34m)\u001b[0m\u001b[0;34m\u001b[0m\u001b[0;34m\u001b[0m\u001b[0m\n\u001b[0m",
      "\u001b[0;32m<ipython-input-67-297e63a5a7da>\u001b[0m in \u001b[0;36mgenerate_test_jsons_entire_dir\u001b[0;34m(srcpath, train_destpath, test_destpath)\u001b[0m\n\u001b[1;32m     35\u001b[0m     \u001b[0;32mfor\u001b[0m \u001b[0mf\u001b[0m \u001b[0;32min\u001b[0m \u001b[0mlistdir\u001b[0m\u001b[0;34m(\u001b[0m\u001b[0msrcpath\u001b[0m\u001b[0;34m)\u001b[0m\u001b[0;34m:\u001b[0m\u001b[0;34m\u001b[0m\u001b[0;34m\u001b[0m\u001b[0m\n\u001b[1;32m     36\u001b[0m         \u001b[0msrc\u001b[0m \u001b[0;34m=\u001b[0m \u001b[0mjoin\u001b[0m\u001b[0;34m(\u001b[0m\u001b[0msrcpath\u001b[0m\u001b[0;34m,\u001b[0m \u001b[0mf\u001b[0m\u001b[0;34m)\u001b[0m\u001b[0;34m\u001b[0m\u001b[0;34m\u001b[0m\u001b[0m\n\u001b[0;32m---> 37\u001b[0;31m         \u001b[0mdest\u001b[0m \u001b[0;34m=\u001b[0m \u001b[0mjoin\u001b[0m\u001b[0;34m(\u001b[0m\u001b[0mdestpath\u001b[0m\u001b[0;34m,\u001b[0m \u001b[0mf\u001b[0m\u001b[0;34m)\u001b[0m\u001b[0;34m\u001b[0m\u001b[0;34m\u001b[0m\u001b[0m\n\u001b[0m\u001b[1;32m     38\u001b[0m         \u001b[0;32mif\u001b[0m \u001b[0misfile\u001b[0m\u001b[0;34m(\u001b[0m\u001b[0msrc\u001b[0m\u001b[0;34m)\u001b[0m\u001b[0;34m:\u001b[0m\u001b[0;34m\u001b[0m\u001b[0;34m\u001b[0m\u001b[0m\n\u001b[1;32m     39\u001b[0m             \u001b[0msplit_script_into_json\u001b[0m\u001b[0;34m(\u001b[0m\u001b[0msrc\u001b[0m\u001b[0;34m,\u001b[0m \u001b[0mtrain_dest\u001b[0m\u001b[0;34m,\u001b[0m \u001b[0mtest_dest\u001b[0m\u001b[0;34m,\u001b[0m \u001b[0munique_id\u001b[0m\u001b[0;34m,\u001b[0m \u001b[0mblocks_per_file\u001b[0m\u001b[0;34m,\u001b[0m \u001b[0mtests_per_file\u001b[0m\u001b[0;34m)\u001b[0m\u001b[0;34m\u001b[0m\u001b[0;34m\u001b[0m\u001b[0m\n",
      "\u001b[0;31mNameError\u001b[0m: name 'destpath' is not defined"
     ]
    }
   ],
   "source": [
    "generate_test_jsons_entire_dir(\"./parsed_data/\", \"./training_cases/\", \"./test_cases/\")"
   ]
  },
  {
   "cell_type": "code",
   "execution_count": null,
   "metadata": {},
   "outputs": [],
   "source": []
  }
 ],
 "metadata": {
  "kernelspec": {
   "display_name": "Python 3",
   "language": "python",
   "name": "python3"
  },
  "language_info": {
   "codemirror_mode": {
    "name": "ipython",
    "version": 3
   },
   "file_extension": ".py",
   "mimetype": "text/x-python",
   "name": "python",
   "nbconvert_exporter": "python",
   "pygments_lexer": "ipython3",
   "version": "3.7.1"
  }
 },
 "nbformat": 4,
 "nbformat_minor": 2
}
