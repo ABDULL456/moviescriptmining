{
 "cells": [
  {
   "cell_type": "code",
   "execution_count": 38,
   "metadata": {},
   "outputs": [],
   "source": [
    "import re\n",
    "from os import listdir\n",
    "from os.path import isfile, join\n",
    "import random"
   ]
  },
  {
   "cell_type": "code",
   "execution_count": 39,
   "metadata": {},
   "outputs": [],
   "source": [
    "def split_script(src, dest, block_count, test_count):\n",
    "    with open(src, \"r\") as f:\n",
    "        lines = f.readlines()\n",
    "        line_count = len(lines)\n",
    "        lines_per_block = line_count // block_count\n",
    "        blocks = random.sample(range(0, block_count), test_count)\n",
    "        dests = []\n",
    "        line_chunks = []\n",
    "        for i in range(test_count):\n",
    "            dests.append(dest[:-4] + \"_\" + str(i+1) + \"_input.txt\")\n",
    "            dests.append(dest[:-4] + \"_\" + str(i+1) + \"_true_output.txt\")\n",
    "            \n",
    "            start_index = blocks[i]*lines_per_block\n",
    "            end_index = start_index + lines_per_block\n",
    "            split_index = (start_index + end_index) // 2\n",
    "            \n",
    "            line_chunks.append(lines[start_index:split_index])\n",
    "            line_chunks.append(lines[split_index+1:end_index])\n",
    "        \n",
    "        for n in range(len(dests)):\n",
    "            with open(dests[n], \"w+\") as f:\n",
    "                f.write(''.join(line_chunks[n]))\n",
    "            \n",
    "\n",
    "def generate_tests_entire_dir(srcpath, destpath):\n",
    "    for f in listdir(srcpath):\n",
    "        src = join(srcpath, f)\n",
    "        dest = join(destpath, f)\n",
    "        if isfile(src):\n",
    "            split_script(src, dest, 20, 3)\n",
    "    \n",
    "def parse_script(src, dest):\n",
    "    with open(src, \"r\") as f:\n",
    "        parsed = \"\"\n",
    "        added_new = True # Used for ignoring consequtive empty lines\n",
    "        for line in f:\n",
    "            temp = line.strip(\" \")\n",
    "            if temp != \"\\n\":\n",
    "                temp = temp.strip(\"\\n\")\n",
    "                if (re.search('[a-zA-Z]', temp)): # Ignore page number lines\n",
    "                    parsed += line.strip() + \" \"\n",
    "                    added_new = False\n",
    "            else:\n",
    "                if not added_new:\n",
    "                    parsed += \"\\n\"\n",
    "                    added_new = True\n",
    "                continue\n",
    "    with open(dest, \"w\") as f:\n",
    "        f.write(parsed)\n",
    "\n",
    "def process_entire_dir(srcpath, destpath):\n",
    "    for f in listdir(srcpath):\n",
    "        src = join(srcpath, f)\n",
    "        dest = join(destpath, f)\n",
    "        if isfile(src):\n",
    "            parse_script(src, dest)\n",
    "    print(\"Processed: {} scripts\".format(len(listdir(srcpath))))"
   ]
  },
  {
   "cell_type": "code",
   "execution_count": null,
   "metadata": {},
   "outputs": [],
   "source": [
    "process_entire_dir(\"./raw_data/\", \"./parsed_data/\")"
   ]
  },
  {
   "cell_type": "code",
   "execution_count": 40,
   "metadata": {},
   "outputs": [],
   "source": [
    "generate_tests_entire_dir(\"./parsed_data/\", \"./test_cases/\")"
   ]
  },
  {
   "cell_type": "code",
   "execution_count": null,
   "metadata": {},
   "outputs": [],
   "source": []
  }
 ],
 "metadata": {
  "kernelspec": {
   "display_name": "Python 3",
   "language": "python",
   "name": "python3"
  },
  "language_info": {
   "codemirror_mode": {
    "name": "ipython",
    "version": 3
   },
   "file_extension": ".py",
   "mimetype": "text/x-python",
   "name": "python",
   "nbconvert_exporter": "python",
   "pygments_lexer": "ipython3",
   "version": "3.7.1"
  }
 },
 "nbformat": 4,
 "nbformat_minor": 2
}
