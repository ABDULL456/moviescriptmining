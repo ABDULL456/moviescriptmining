{
 "cells": [
  {
   "cell_type": "code",
   "execution_count": 1,
   "metadata": {
    "colab": {},
    "colab_type": "code",
    "id": "_fb8s1jbkTBG"
   },
   "outputs": [],
   "source": [
    "import json\n",
    "import random\n",
    "from os import listdir\n",
    "from os.path import isfile, join\n",
    "from IPython.display import clear_output"
   ]
  },
  {
   "cell_type": "code",
   "execution_count": 2,
   "metadata": {
    "colab": {},
    "colab_type": "code",
    "id": "QzYrJQVLFr5c"
   },
   "outputs": [],
   "source": [
    "class Sample:\n",
    "    help_text = '\\n'.join([\n",
    "        'Type 2 integers in order of preference.',\n",
    "        'For example, type \"15 or 23\".',\n",
    "    ])\n",
    "  \n",
    "    def __init__(self, prompt, truth, random, sentiment, rank=None):\n",
    "        self.prompt = prompt\n",
    "        self.truth = truth\n",
    "        self.random = random\n",
    "        self.sentiment = sentiment\n",
    "        self.rank = rank\n",
    "    \n",
    "    @staticmethod\n",
    "    def load_file(path):\n",
    "        '''\n",
    "        Create a list of Samples from a json file.\n",
    "        The json should be either a single dict or a list of dicts.\n",
    "        Each dict must contain the keys \"prompt\", \"truth\", \"random\", and \"sentiment\".\n",
    "        '''\n",
    "        with open(path) as f:\n",
    "            j = json.load(f)\n",
    "        if isinstance(j, dict):\n",
    "            j = [j]\n",
    "        return [Sample.load_dict(d) for d in j]\n",
    "  \n",
    "    @staticmethod\n",
    "    def load_dict(d):\n",
    "        return Sample(d['prompt'], d['truth'], d['random'], d['sentiment'], d.get('rank'))\n",
    "  \n",
    "    def evaluate(self):\n",
    "        def print_header(text=None, c='='):\n",
    "            if not text:\n",
    "                print(c * 62)\n",
    "                return\n",
    "            left = max(30 - len(text) // 2, 10)\n",
    "            right = max(30 - (len(text) + 1) // 2, 10)\n",
    "            print(c * left, text, c * right)\n",
    "            \n",
    "        clear_output()\n",
    "        print_header('Prompt')\n",
    "        print(self.prompt)\n",
    "        completions = [self.truth, self.random, self.sentiment]\n",
    "        print_header('Truth', c='-')\n",
    "        print(self.truth)\n",
    "        print_header('A', c='-')\n",
    "        version = 0\n",
    "        if random.random() > 0.5:\n",
    "            print(self.random)\n",
    "            print_header('B', c='-')\n",
    "            print(self.sentiment)\n",
    "        else:\n",
    "            version = 1\n",
    "            print(self.sentiment)\n",
    "            print_header('B', c='-')\n",
    "            print(self.random)\n",
    "        \n",
    "    \n",
    "        while True:\n",
    "            print_header(c='-')\n",
    "            res = input(f'Rank samples ([h]elp, [q]uit) >>> ')\n",
    "            if res.startswith('h'):\n",
    "                print(self.help_text)\n",
    "                continue\n",
    "            if res.startswith('q'):\n",
    "                return None\n",
    "            if len(res) != 2:\n",
    "                print('Invalid rank, try again.')\n",
    "            elif version == 0:\n",
    "                self.rank = {'random':res[0], 'sentiment':res[1]}\n",
    "                break\n",
    "            else:\n",
    "                self.rank = {'random':res[1], 'sentiment':res[0]}\n",
    "                break\n",
    "  \n",
    "    def __str__(self):\n",
    "        j = {\n",
    "            'prompt': self.prompt,\n",
    "            'truth': self.truth,\n",
    "            'random': self.random,\n",
    "            'sentiment': self.sentiment,\n",
    "        }\n",
    "        if self.rank:\n",
    "            j['rank'] = self.rank\n",
    "        return json.dumps(j, indent=4)"
   ]
  },
  {
   "cell_type": "code",
   "execution_count": 3,
   "metadata": {},
   "outputs": [],
   "source": [
    "def evaluate_movie(src, dest, test_count):\n",
    "    with open(src, \"r\") as f:\n",
    "        j = json.load(f)\n",
    "        evaluations = \"\"\n",
    "        for test in j:\n",
    "            t_id = test['id']\n",
    "            t_prompt = test['prefix'][-200:]\n",
    "            t_true = test['truth'][0:200]\n",
    "            t_random = test['random'][0:200]\n",
    "            t_sentiment = test['sentiment'][0:200]\n",
    "            s = Sample(t_prompt, t_true, t_random, t_sentiment) \n",
    "            s.evaluate()\n",
    "            evaluations += str(t_id) + \",\" + s.rank['random'] + \",\" + s.rank['sentiment'] + '\\n'\n",
    "    with open(dest, \"a+\") as f:\n",
    "        f.write(evaluations)\n",
    "\n",
    "def evaluate_entire_dir(srcpath, destpath, outfile):\n",
    "    evaluations = \"\"\n",
    "    dest = join(destpath, outfile)\n",
    "    test_count = 3\n",
    "    for f in listdir(srcpath):\n",
    "        src = join(srcpath, f)\n",
    "        if isfile(src):\n",
    "            evaluate_movie(src, dest, test_count)"
   ]
  },
  {
   "cell_type": "code",
   "execution_count": null,
   "metadata": {},
   "outputs": [
    {
     "name": "stdout",
     "output_type": "stream",
     "text": [
      "=========================== Prompt ===========================\n",
      " The spilled coins start SLIDING across the floor all by themselves, as if magnetically drawn to THE CHIMNEY -- WHOOSH! -- SUCKED right up into it by some VACUUM FORCE! THE WOMAN What's happening?!!! \n",
      "---------------------------- Truth ---------------------------\n",
      "KA-CHINNNG! A STEEL COLLAR SHOOTS DOWN FROM THE LIGHT, CLAMPING \n",
      "AROUND HER NECK! A CABLE SNAPS OUT FROM IT AND WHIPS UPWARD, \n",
      "PULLING HER INTO THE LIGHT -- She manages to GRAB a doorknob and DANGLES \n",
      "------------------------------ A -----------------------------\n",
      "AST! THE CHIMNEY LATER, the CHIMNEY LOCKS ON THE CHIMNEY, YOU GUYS. Jake pulls the coin BANGING, SHOTGUNS his finger in the WINDOW, SICKS it, AND BANGS it right into the CHIMNEY's BOWDING BOTTLE! THE \n",
      "------------------------------ B -----------------------------\n",
      "CKIE This is a MAN! I don't need to see this! You can't help yourself and I can't help myself. Don't you know why I'm so scared? I could be the one who's holding you down! I don't know what to do! No \n",
      "--------------------------------------------------------------\n"
     ]
    }
   ],
   "source": [
    "evaluate_entire_dir('./all_samples/Matt/', './evaluations/', 'evals_matt.txt')"
   ]
  },
  {
   "cell_type": "code",
   "execution_count": null,
   "metadata": {},
   "outputs": [],
   "source": []
  }
 ],
 "metadata": {
  "accelerator": "GPU",
  "colab": {
   "collapsed_sections": [],
   "name": "sample_evaluation.ipynb",
   "provenance": [],
   "version": "0.3.2"
  },
  "kernelspec": {
   "display_name": "Python 3",
   "language": "python",
   "name": "python3"
  },
  "language_info": {
   "codemirror_mode": {
    "name": "ipython",
    "version": 3
   },
   "file_extension": ".py",
   "mimetype": "text/x-python",
   "name": "python",
   "nbconvert_exporter": "python",
   "pygments_lexer": "ipython3",
   "version": "3.7.2"
  }
 },
 "nbformat": 4,
 "nbformat_minor": 2
}
