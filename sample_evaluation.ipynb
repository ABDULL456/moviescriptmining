{
 "cells": [
  {
   "cell_type": "code",
   "execution_count": 11,
   "metadata": {
    "colab": {},
    "colab_type": "code",
    "id": "_fb8s1jbkTBG"
   },
   "outputs": [],
   "source": [
    "import json\n",
    "import random\n",
    "from os import listdir\n",
    "from os.path import isfile, join\n",
    "from IPython.display import clear_output"
   ]
  },
  {
   "cell_type": "code",
   "execution_count": 12,
   "metadata": {
    "colab": {},
    "colab_type": "code",
    "id": "QzYrJQVLFr5c"
   },
   "outputs": [],
   "source": [
    "class Sample:\n",
    "    help_text = '\\n'.join([\n",
    "        'Type 2 integers in order of preference.',\n",
    "        'For example, type \"15 or 23\".',\n",
    "    ])\n",
    "  \n",
    "    def __init__(self, prompt, truth, random, sentiment, rank=None):\n",
    "        self.prompt = prompt\n",
    "        self.truth = truth\n",
    "        self.random = random\n",
    "        self.sentiment = sentiment\n",
    "        self.rank = rank\n",
    "    \n",
    "    @staticmethod\n",
    "    def load_file(path):\n",
    "        '''\n",
    "        Create a list of Samples from a json file.\n",
    "        The json should be either a single dict or a list of dicts.\n",
    "        Each dict must contain the keys \"prompt\", \"truth\", \"random\", and \"sentiment\".\n",
    "        '''\n",
    "        with open(path) as f:\n",
    "            j = json.load(f)\n",
    "        if isinstance(j, dict):\n",
    "            j = [j]\n",
    "        return [Sample.load_dict(d) for d in j]\n",
    "  \n",
    "    @staticmethod\n",
    "    def load_dict(d):\n",
    "        return Sample(d['prompt'], d['truth'], d['random'], d['sentiment'], d.get('rank'))\n",
    "  \n",
    "    def evaluate(self):\n",
    "        def print_header(text=None, c='='):\n",
    "            if not text:\n",
    "                print(c * 62)\n",
    "                return\n",
    "            left = max(30 - len(text) // 2, 10)\n",
    "            right = max(30 - (len(text) + 1) // 2, 10)\n",
    "            print(c * left, text, c * right)\n",
    "            \n",
    "        clear_output()\n",
    "        print_header('Prompt')\n",
    "        print(self.prompt)\n",
    "        completions = [self.truth, self.random, self.sentiment]\n",
    "        print_header('Truth', c='-')\n",
    "        print(self.truth)\n",
    "        print_header('A', c='-')\n",
    "        version = 0\n",
    "        if random.random() > 0.5:\n",
    "            print(self.random)\n",
    "            print_header('B', c='-')\n",
    "            print(self.sentiment)\n",
    "        else:\n",
    "            version = 1\n",
    "            print(self.sentiment)\n",
    "            print_header('B', c='-')\n",
    "            print(self.random)\n",
    "        \n",
    "    \n",
    "        while True:\n",
    "            print_header(c='-')\n",
    "            res = input(f'Rank samples ([h]elp, [q]uit) >>> ')\n",
    "            if res.startswith('h'):\n",
    "                print(self.help_text)\n",
    "                continue\n",
    "            if res.startswith('q'):\n",
    "                return None\n",
    "            if len(res) != 2:\n",
    "                print('Invalid rank, try again.')\n",
    "            elif version == 0:\n",
    "                self.rank = {'random':res[0], 'sentiment':res[1]}\n",
    "                break\n",
    "            else:\n",
    "                self.rank = {'random':res[1], 'sentiment':res[0]}\n",
    "                break\n",
    "  \n",
    "    def __str__(self):\n",
    "        j = {\n",
    "            'prompt': self.prompt,\n",
    "            'truth': self.truth,\n",
    "            'random': self.random,\n",
    "            'sentiment': self.sentiment,\n",
    "        }\n",
    "        if self.rank:\n",
    "            j['rank'] = self.rank\n",
    "        return json.dumps(j, indent=4)"
   ]
  },
  {
   "cell_type": "code",
   "execution_count": 29,
   "metadata": {},
   "outputs": [],
   "source": [
    "def evaluate_movie(src, test_count):\n",
    "    with open(src, \"r\") as f:\n",
    "        j = json.load(f)\n",
    "        for test in j:\n",
    "            t_id = test['id']\n",
    "            t_prompt = test['prefix'][-200:]\n",
    "            t_true = test['truth'][0:200]\n",
    "            t_random = test['random'][0:200]\n",
    "            t_sentiment = test['sentiment'][0:200]\n",
    "            s = Sample(t_prompt, t_true, t_random, t_sentiment) \n",
    "            s.evaluate()\n",
    "            return str(t_id) + \",\" + s.rank['random'] + \",\" + s.rank['sentiment']\n",
    "\n",
    "def evaluate_entire_dir(srcpath, destpath, outfile):\n",
    "    evaluations = \"\"\n",
    "    dest = join(destpath, outfile)\n",
    "    test_count = 3\n",
    "    for f in listdir(srcpath):\n",
    "        src = join(srcpath, f)\n",
    "        if isfile(src):\n",
    "            evaluations += evaluate_movie(src, test_count) + '\\n'\n",
    "    with open(dest, \"w+\") as f:\n",
    "        f.write(evaluations)"
   ]
  },
  {
   "cell_type": "code",
   "execution_count": 30,
   "metadata": {},
   "outputs": [
    {
     "name": "stdout",
     "output_type": "stream",
     "text": [
      "=========================== Prompt ===========================\n",
      "The teacher shakes her head, but lets it go. MANDELLA. a waif-like senior girl who sits off to the side trying to slit her wrist with the plastic spiral on her notebook, looks up and raises her hand. \n",
      "---------------------------- Truth ---------------------------\n",
      "MANDELLA Uh, yeah, I read it all \n",
      "TEACHER The whole play^ \n",
      "MANDELIA The whole folio.  All the plays. \n",
      "TEACHER (disbelieving) You've read every play by William Shakespeare? \n",
      "MANDELLA Haven't you? \n",
      "She \n",
      "------------------------------ A -----------------------------\n",
      "MANDELLA You're a really good girl, Mrs. Mandy.  She puts a hand on her and then she goes back to school. She looks out the window and sees a large group of students heading out on their own. MANDELLA\n",
      "------------------------------ B -----------------------------\n",
      "ANDELLA Oh, you're going to have to do a split second to find out, right? You're also going to have to catch up with MANDELLA. MANDELLA (cont'd) You still have a year to live? Does that mean it's not \n",
      "--------------------------------------------------------------\n"
     ]
    },
    {
     "name": "stdin",
     "output_type": "stream",
     "text": [
      "Rank samples ([h]elp, [q]uit) >>>  13\n"
     ]
    }
   ],
   "source": [
    "evaluate_entire_dir('./temp_test_cases/', './evaluations/', 'evals_dh4dt.txt')"
   ]
  },
  {
   "cell_type": "code",
   "execution_count": null,
   "metadata": {},
   "outputs": [],
   "source": []
  }
 ],
 "metadata": {
  "accelerator": "GPU",
  "colab": {
   "collapsed_sections": [],
   "name": "sample_evaluation.ipynb",
   "provenance": [],
   "version": "0.3.2"
  },
  "kernelspec": {
   "display_name": "Python 3",
   "language": "python",
   "name": "python3"
  },
  "language_info": {
   "codemirror_mode": {
    "name": "ipython",
    "version": 3
   },
   "file_extension": ".py",
   "mimetype": "text/x-python",
   "name": "python",
   "nbconvert_exporter": "python",
   "pygments_lexer": "ipython3",
   "version": "3.7.1"
  }
 },
 "nbformat": 4,
 "nbformat_minor": 2
}
