{
 "cells": [
  {
   "cell_type": "code",
   "execution_count": 9,
   "metadata": {
    "colab": {},
    "colab_type": "code",
    "id": "_fb8s1jbkTBG"
   },
   "outputs": [],
   "source": [
    "import json\n",
    "import random\n",
    "from os import listdir\n",
    "from os.path import isfile, join\n",
    "from IPython.display import clear_output"
   ]
  },
  {
   "cell_type": "code",
   "execution_count": 10,
   "metadata": {
    "colab": {},
    "colab_type": "code",
    "id": "QzYrJQVLFr5c"
   },
   "outputs": [],
   "source": [
    "class Sample:\n",
    "    help_text = '\\n'.join([\n",
    "        'Type 2 integers in order of preference.',\n",
    "        'For example, type \"15 or 23\".',\n",
    "    ])\n",
    "  \n",
    "    def __init__(self, prompt, truth, random, sentiment, rank=None):\n",
    "        self.prompt = prompt\n",
    "        self.truth = truth\n",
    "        self.random = random\n",
    "        self.sentiment = sentiment\n",
    "        self.rank = rank\n",
    "    \n",
    "    @staticmethod\n",
    "    def load_file(path):\n",
    "        '''\n",
    "        Create a list of Samples from a json file.\n",
    "        The json should be either a single dict or a list of dicts.\n",
    "        Each dict must contain the keys \"prompt\", \"truth\", \"random\", and \"sentiment\".\n",
    "        '''\n",
    "        with open(path) as f:\n",
    "            j = json.load(f)\n",
    "        if isinstance(j, dict):\n",
    "            j = [j]\n",
    "        return [Sample.load_dict(d) for d in j]\n",
    "  \n",
    "    @staticmethod\n",
    "    def load_dict(d):\n",
    "        return Sample(d['prompt'], d['truth'], d['random'], d['sentiment'], d.get('rank'))\n",
    "  \n",
    "    def evaluate(self):\n",
    "        def print_header(text=None, c='='):\n",
    "            if not text:\n",
    "                print(c * 62)\n",
    "                return\n",
    "            left = max(30 - len(text) // 2, 10)\n",
    "            right = max(30 - (len(text) + 1) // 2, 10)\n",
    "            print(c * left, text, c * right)\n",
    "            \n",
    "        clear_output()\n",
    "        print_header('Prompt')\n",
    "        print(self.prompt)\n",
    "        completions = [self.truth, self.random, self.sentiment]\n",
    "        print_header('Truth', c='-')\n",
    "        print(self.truth)\n",
    "        print_header('A', c='-')\n",
    "        version = 0\n",
    "        if random.random() > 0.5:\n",
    "            print(self.random)\n",
    "            print_header('B', c='-')\n",
    "            print(self.sentiment)\n",
    "        else:\n",
    "            version = 1\n",
    "            print(self.sentiment)\n",
    "            print_header('B', c='-')\n",
    "            print(self.random)\n",
    "        \n",
    "    \n",
    "        while True:\n",
    "            print_header(c='-')\n",
    "            res = input(f'Rank samples ([h]elp, [q]uit) >>> ')\n",
    "            if res.startswith('h'):\n",
    "                print(self.help_text)\n",
    "                continue\n",
    "            if res.startswith('q'):\n",
    "                return None\n",
    "            if len(res) != 2:\n",
    "                print('Invalid rank, try again.')\n",
    "            elif version == 0:\n",
    "                self.rank = {'random':res[0], 'sentiment':res[1]}\n",
    "                break\n",
    "            else:\n",
    "                self.rank = {'random':res[1], 'sentiment':res[0]}\n",
    "                break\n",
    "  \n",
    "    def __str__(self):\n",
    "        j = {\n",
    "            'prompt': self.prompt,\n",
    "            'truth': self.truth,\n",
    "            'random': self.random,\n",
    "            'sentiment': self.sentiment,\n",
    "        }\n",
    "        if self.rank:\n",
    "            j['rank'] = self.rank\n",
    "        return json.dumps(j, indent=4)"
   ]
  },
  {
   "cell_type": "code",
   "execution_count": 16,
   "metadata": {},
   "outputs": [],
   "source": [
    "def evaluate_movie(src, dest, test_count):\n",
    "    with open(src, \"r\") as f:\n",
    "        j = json.load(f)\n",
    "        evaluations = \"\"\n",
    "        for test in j:\n",
    "            t_id = test['id']\n",
    "            t_prompt = test['prefix'][-200:]\n",
    "            t_true = test['truth'][0:200]\n",
    "            t_random = test['random'][0:200]\n",
    "            t_sentiment = test['sentiment'][0:200]\n",
    "            s = Sample(t_prompt, t_true, t_random, t_sentiment) \n",
    "            s.evaluate()\n",
    "            evaluations += str(t_id) + \",\" + s.rank['random'] + \",\" + s.rank['sentiment'] + '\\n'\n",
    "    with open(dest, \"a+\") as f:\n",
    "        f.write(evaluations)\n",
    "\n",
    "def evaluate_entire_dir(srcpath, destpath, outfile):\n",
    "    evaluations = \"\"\n",
    "    dest = join(destpath, outfile)\n",
    "    test_count = 3\n",
    "    for f in listdir(srcpath):\n",
    "        src = join(srcpath, f)\n",
    "        if isfile(src):\n",
    "            evaluate_movie(src, dest, test_count)"
   ]
  },
  {
   "cell_type": "code",
   "execution_count": 17,
   "metadata": {},
   "outputs": [
    {
     "name": "stdout",
     "output_type": "stream",
     "text": [
      "=========================== Prompt ===========================\n",
      "KAT Really?  What was it like?  A down payment now, then a bonus for sleeping with me? PATRICK I didn't care about the money. He catches up to her now \n",
      "---------------------------- Truth ---------------------------\n",
      "She turns to face him with a countenance more in sorrow than in anger. \n",
      "KAT You are so not what I thought you were. \n",
      "He grabs her and kisses her to shut her up.  After a second, she jerks away and fle\n",
      "------------------------------ A -----------------------------\n",
      " I'm wearing a pink button up jacket, a black baseball cap, and a pink hoodie.  My shoes are all black.  He goes to the bathroom.  I'm naked.  He hands me my card and he's like, \"Hey, buddy.  Come on,\n",
      "------------------------------ B -----------------------------\n",
      " I'm sure he was thinking that, but I'm not sure.  She looks at him.  \"Well, you know what you're waiting for, huh?\"  She smiles at him.  \"I have a job, but you're my boss now.  I'm not going to make \n",
      "--------------------------------------------------------------\n"
     ]
    },
    {
     "name": "stdin",
     "output_type": "stream",
     "text": [
      "Rank samples ([h]elp, [q]uit) >>>  11\n"
     ]
    }
   ],
   "source": [
    "evaluate_entire_dir('./all_samples/Danial/', './evaluations/', 'evals_danial.txt')"
   ]
  },
  {
   "cell_type": "code",
   "execution_count": null,
   "metadata": {},
   "outputs": [],
   "source": []
  }
 ],
 "metadata": {
  "accelerator": "GPU",
  "colab": {
   "collapsed_sections": [],
   "name": "sample_evaluation.ipynb",
   "provenance": [],
   "version": "0.3.2"
  },
  "kernelspec": {
   "display_name": "Python 3",
   "language": "python",
   "name": "python3"
  },
  "language_info": {
   "codemirror_mode": {
    "name": "ipython",
    "version": 3
   },
   "file_extension": ".py",
   "mimetype": "text/x-python",
   "name": "python",
   "nbconvert_exporter": "python",
   "pygments_lexer": "ipython3",
   "version": "3.7.1"
  }
 },
 "nbformat": 4,
 "nbformat_minor": 2
}
